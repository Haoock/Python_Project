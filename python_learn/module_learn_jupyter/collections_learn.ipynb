{
 "cells": [
  {
   "cell_type": "code",
   "execution_count": 2,
   "metadata": {
    "collapsed": true
   },
   "outputs": [],
   "source": [
    "\n",
    "from collections import Counter"
   ]
  },
  {
   "cell_type": "code",
   "execution_count": 4,
   "outputs": [
    {
     "name": "stdout",
     "output_type": "stream",
     "text": [
      "Counter({9: 3, 0: 2, 1: 1, 5: 1, 8: 1})\n",
      "Counter({'a': 5, 'b': 4, 'c': 3, 'd': 2, 'e': 1})\n",
      "{'a': 5, 'b': 4, 'c': 3, 'd': 2, 'e': 1}\n"
     ]
    }
   ],
   "source": [
    "# Counter主要是统计“可迭代序列”中每个元素的出现的次数\n",
    "#对列表作用\n",
    "list_01 = [1,9,9,5,0,8,0,9]  #GNZ48-陈珂生日\n",
    "print(Counter(list_01))  #Counter({9: 3, 0: 2, 1: 1, 5: 1, 8: 1})\n",
    "\n",
    "#对字符串作用\n",
    "temp = Counter('abcdeabcdabcaba')\n",
    "print(temp)  #Counter({'a': 5, 'b': 4, 'c': 3, 'd': 2, 'e': 1})\n",
    "#以上其实是两种使用方法，一种是直接用，一种是实例化以后使用,如果要频繁调用的话，显然后一种更简洁\n",
    "\n",
    "print( dict(temp) ) #{'b': 4, 'a': 5, 'c': 3, 'd': 2, 'e': 1}"
   ],
   "metadata": {
    "collapsed": false,
    "pycharm": {
     "name": "#%%\n"
    }
   }
  },
  {
   "cell_type": "code",
   "execution_count": 6,
   "outputs": [
    {
     "name": "stdout",
     "output_type": "stream",
     "text": [
      "[(9, 3)]\n",
      "[(9, 3), (0, 2)]\n",
      "[(9, 3), (0, 2), (1, 1), (5, 1), (8, 1)]\n"
     ]
    }
   ],
   "source": [
    "# 统计出现次数最多的元素\n",
    "\n",
    "list_01 = [1,9,9,5,0,8,0,9]\n",
    "temp = Counter(list_01)\n",
    "\n",
    "#统计出现次数最多的一个元素\n",
    "print(temp.most_common(1))   #[(9, 3)]  元素“9”出现3次。\n",
    "print(temp.most_common(2)) #[(9, 3), (0, 2)]  统计出现次数最多个两个元素\n",
    "\n",
    "#没有指定个数，就列出全部\n",
    "print(temp.most_common())  #[(9, 3), (0, 2), (1, 1), (5, 1), (8, 1)]"
   ],
   "metadata": {
    "collapsed": false,
    "pycharm": {
     "name": "#%%\n"
    }
   }
  },
  {
   "cell_type": "code",
   "execution_count": 7,
   "outputs": [
    {
     "name": "stdout",
     "output_type": "stream",
     "text": [
      "1\n"
     ]
    }
   ],
   "source": [
    "# 查看\n",
    "c = Counter('ABBCC')\n",
    "#查询具体某个元素的个数\n",
    "print(c[\"A\"])  #1\n",
    "\n",
    "# 新增\n",
    "for elem in 'ADD':  # update counts from an iterabl\n",
    "    c[elem] += 1\n",
    "print(c.most_common())  #[('C', 2), ('D', 2), ('A', 2), ('B', 2)]\n",
    "#可以看出“A”增加了一个，新增了两个“D”\n",
    "\n",
    "# 删除\n",
    "del c[\"D\"]\n",
    "print(c.most_common())  #[('C', 2), ('A', 2), ('B', 2)]\n",
    "del c[\"C\"]\n",
    "print(c.most_common())  #[('A', 2), ('B', 2)]\n",
    "\n",
    "# 更新\n",
    "d = Counter(\"CCDD\")\n",
    "c.update(d)\n",
    "print(c.most_common())  #[('B', 2), ('A', 2), ('C', 2), ('D', 2)]\n"
   ],
   "metadata": {
    "collapsed": false,
    "pycharm": {
     "name": "#%%\n"
    }
   }
  }
 ],
 "metadata": {
  "kernelspec": {
   "name": "pythonlearn",
   "language": "python",
   "display_name": "pythonLearn"
  },
  "language_info": {
   "codemirror_mode": {
    "name": "ipython",
    "version": 2
   },
   "file_extension": ".py",
   "mimetype": "text/x-python",
   "name": "python",
   "nbconvert_exporter": "python",
   "pygments_lexer": "ipython2",
   "version": "2.7.6"
  }
 },
 "nbformat": 4,
 "nbformat_minor": 0
}