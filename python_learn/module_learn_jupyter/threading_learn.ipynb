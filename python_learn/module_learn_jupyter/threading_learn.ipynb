{
 "cells": [
  {
   "cell_type": "code",
   "execution_count": 1,
   "metadata": {
    "collapsed": true
   },
   "outputs": [],
   "source": [
    "# 多线程处理：threading包\n",
    "# 多进程处理：可以结合multiprocess_learn去看\n",
    "import threading\n",
    "import time"
   ]
  },
  {
   "cell_type": "code",
   "execution_count": null,
   "outputs": [],
   "source": [
    "def test():\n",
    "    for i in range(5):\n",
    "        print('test ', i)\n",
    "        time.sleep(1)\n",
    "\n",
    "\n",
    "# 创建一个线程：使用Thread类\n",
    "thread = threading.Thread(target=test)  # 其中的target参数最重要\n",
    "thread.start() # thread开始运行\n",
    "\n",
    "for i in range(5): # 这是主线程中的输出\n",
    "    print('main ', i)\n",
    "    time.sleep(1)"
   ],
   "metadata": {
    "collapsed": false,
    "pycharm": {
     "name": "#%%\n"
    }
   }
  },
  {
   "cell_type": "code",
   "execution_count": 9,
   "outputs": [
    {
     "name": "stdout",
     "output_type": "stream",
     "text": [
      "TestThread test  0\n",
      "TestThread test  1\n",
      "MainThread main  0\n",
      "TestThread is alive  True\n",
      "TestThread test  2\n",
      "TestThread test  3\n",
      "MainThread main  1\n",
      "TestThread is alive  True\n",
      "TestThread test  4\n",
      "MainThread main  2\n",
      "TestThread is alive  False\n",
      "MainThread main  3\n",
      "TestThread is alive  False\n",
      "MainThread main  4\n",
      "TestThread is alive  False\n"
     ]
    }
   ],
   "source": [
    "# 上面是两个线程同时执行\n",
    "# join可以提供线程阻塞手段，调用一个 Thread 的 join() 方法，可以阻塞自身所在的线程。\n",
    "def test():\n",
    "\n",
    "    for i in range(5):\n",
    "        print(threading.current_thread().name+' test ',i)\n",
    "        time.sleep(0.5)\n",
    "\n",
    "\n",
    "thread = threading.Thread(target=test,name='TestThread')\n",
    "thread.start()\n",
    "#thread.join() # 这边其实是阻塞了主线程，让其一直等待thread线程的结束\n",
    "\n",
    "# 这边可以指定阻塞的时间，比如下面的一行代码指定只阻塞主线程1秒钟。\n",
    "thread.join(1.0)\n",
    "#简单的来说，就是给每个子线程一个timeout的时间，让他去执行\n",
    "\n",
    "for i in range(5):\n",
    "    print(threading.current_thread().name+' main ', i)\n",
    "    print(thread.name+' is alive ', thread.is_alive())\n",
    "    time.sleep(1)\n",
    "\n"
   ],
   "metadata": {
    "collapsed": false,
    "pycharm": {
     "name": "#%%\n"
    }
   }
  },
  {
   "cell_type": "code",
   "execution_count": 8,
   "outputs": [
    {
     "name": "stdout",
     "output_type": "stream",
     "text": [
      "TestThread test  0\n",
      "MainThread main  0\n",
      "TestThread is alive  True\n",
      "MainThread main  1\n",
      "TestThread is alive  True\n",
      "TestThread test  1\n",
      "MainThread main  2\n",
      "TestThread is alive  True\n",
      "MainThread main  3\n",
      "TestThread is alive  True\n",
      "TestThread test  2\n",
      "MainThread main  4\n",
      "TestThread is alive  True\n"
     ]
    }
   ],
   "source": [
    "# thread中的daemon属性表示是守护进程的意思，默认为false，\n",
    "# 如下面的例子，让主线程运行时间比子线程运行时间长，你会发现主线程运行结束而子线程还在运行(好像结果不是这样)\n",
    "# 下面运行的结果好像就直接是daemon为True的结果了？？？\n",
    "def test():\n",
    "\n",
    "    for i in range(5):\n",
    "        print(threading.current_thread().name+' test ',i)\n",
    "        time.sleep(2)\n",
    "\n",
    "\n",
    "thread = threading.Thread(target=test,name='TestThread', daemon=False)\n",
    "# thread = threading.Thread(target=test)\n",
    "thread.start()\n",
    "\n",
    "for i in range(5):\n",
    "    print(threading.current_thread().name+' main ', i)\n",
    "    print(thread.name+' is alive ', thread.is_alive())\n",
    "    time.sleep(1)\n"
   ],
   "metadata": {
    "collapsed": false,
    "pycharm": {
     "name": "#%%\n"
    }
   }
  },
  {
   "cell_type": "code",
   "execution_count": null,
   "outputs": [],
   "source": [],
   "metadata": {
    "collapsed": false,
    "pycharm": {
     "name": "#%%\n"
    }
   }
  }
 ],
 "metadata": {
  "kernelspec": {
   "name": "python3",
   "language": "python",
   "display_name": "Python 3 (ipykernel)"
  },
  "language_info": {
   "codemirror_mode": {
    "name": "ipython",
    "version": 2
   },
   "file_extension": ".py",
   "mimetype": "text/x-python",
   "name": "python",
   "nbconvert_exporter": "python",
   "pygments_lexer": "ipython2",
   "version": "2.7.6"
  }
 },
 "nbformat": 4,
 "nbformat_minor": 0
}