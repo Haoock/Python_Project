{
 "cells": [
  {
   "cell_type": "code",
   "execution_count": null,
   "metadata": {
    "collapsed": true
   },
   "outputs": [],
   "source": [
    "# multiprocess既支持多进程也支持多线程\n",
    "# 如果每个子进程执行需要消耗的时间非常短（执行+1操作等），这不必使用多进程，因为进程的启动关闭也会耗费资源。\n",
    "# 当然使用多进程往往是用来处理CPU密集型（科学计算）的需求，如果是IO密集型（文件读取，爬虫等）则可以使用多线程去处理。\n",
    "from multiprocessing import Process\n",
    "import time\n",
    "import os\n",
    "\n",
    "\n",
    "def info():\n",
    "    print('module name:', __name__)\n",
    "    print('parent process:', os.getppid())\n",
    "    print('process id:', os.getpid())\n",
    "\n",
    "\n",
    "def f(name):\n",
    "    info()\n",
    "    time.sleep(3)\n",
    "    print('hello', name)\n",
    "\n",
    "\n",
    "\n",
    "info()\n",
    "p = Process(target=f, args=('bob',))\n",
    "# p.daemon = False\n",
    "print(p.daemon)\n",
    "p.start()\n",
    "p.join(1)\n",
    "print('name:', p.name)\n",
    "print('is_alive:', p.is_alive())\n",
    "print('exitcode:', p.exitcode)\n",
    "# 在上述逻辑中，子进程会休息3s然后再打印一句话才结束，同时设定join(1)阻塞1s，阻塞在1s后结束，我们的并没有守护主进程，然后主进程结束后，子进程依然alive；\n",
    "\n"
   ]
  }
 ],
 "metadata": {
  "kernelspec": {
   "display_name": "Python 3",
   "language": "python",
   "name": "python3"
  },
  "language_info": {
   "codemirror_mode": {
    "name": "ipython",
    "version": 2
   },
   "file_extension": ".py",
   "mimetype": "text/x-python",
   "name": "python",
   "nbconvert_exporter": "python",
   "pygments_lexer": "ipython2",
   "version": "2.7.6"
  }
 },
 "nbformat": 4,
 "nbformat_minor": 0
}