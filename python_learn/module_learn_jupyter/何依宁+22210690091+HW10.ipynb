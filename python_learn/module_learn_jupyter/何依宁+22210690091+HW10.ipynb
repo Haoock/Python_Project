{
 "cells": [
  {
   "cell_type": "markdown",
   "metadata": {},
   "source": [
    "已知测量值的自然对数独立同分布，服从$N(log\\theta,0.05^2)$的分布，\\\n",
    "$log\\theta$的先验分布为$N(2.5,0.5^2)$ \\\n",
    "而$\\mu$未知，$\\sigma^2$已知时，$\\pi(\\mu|x)$服从$N(\\frac{\\frac{\\mu_0}{\\sigma_0^2}+\\frac{n\\overline{x}}{\\sigma^2}}{\\frac{1}{\\sigma_0^2}+\\frac{n}{\\sigma^2}},\\frac{1}{\\frac{1}{\\sigma_0^2}+\\frac{n}{\\sigma^2}})$，记为$N(\\mu_1,\\sigma_1^2)$"
   ]
  },
  {
   "cell_type": "markdown",
   "metadata": {},
   "source": [
    "### (a)对数θ的后验分布\n",
    "代入$\\sigma^2=0.05^2,\\sigma_0^2=0.5^2$可知"
   ]
  },
  {
   "cell_type": "code",
   "execution_count": 7,
   "metadata": {},
   "outputs": [
    {
     "name": "stdout",
     "output_type": "stream",
     "text": [
      "logθ的后验分布为N( 3.034466 , 0.00025 )的正态分布\n"
     ]
    }
   ],
   "source": [
    "import numpy as np\n",
    "x=np.array([2.99,3.03,3.04,3.01,3.12,2.98,3.03,2.98,3.07,3.10])#测量值的对数\n",
    "mu=x.sum()/len(x)#样本均值\n",
    "mu1=(2.5/0.25+10*(x.sum()/len(x))/(0.05**2))/1/(1/0.25+10/(0.05**2))#后验分布的均值\n",
    "Sigma1=1/(1/0.25+10/(0.05**2))#后验分布的方差\n",
    "print('logθ的后验分布为N(',round(mu1,6),',',round(Sigma1,6),')的正态分布')"
   ]
  },
  {
   "cell_type": "markdown",
   "metadata": {},
   "source": [
    "### (b)对数θ的95%的对称后验区间"
   ]
  },
  {
   "cell_type": "code",
   "execution_count": 32,
   "metadata": {},
   "outputs": [
    {
     "name": "stdout",
     "output_type": "stream",
     "text": [
      "logθ的95%的对称后验区间为[ 3.02467 , 3.044261 ]\n"
     ]
    }
   ],
   "source": [
    "a=mu1-1.96*np.sqrt(Sigma1)/np.sqrt(10)\n",
    "b=mu1+1.96*np.sqrt(Sigma1)/np.sqrt(10)\n",
    "print('logθ的95%的对称后验区间为[',round(a,6),',',round(b,6),']')"
   ]
  },
  {
   "cell_type": "markdown",
   "metadata": {},
   "source": [
    "### (c)θ的95％对称后验区间\n",
    "由$log$函数的单调性可知"
   ]
  },
  {
   "cell_type": "code",
   "execution_count": 34,
   "metadata": {},
   "outputs": [
    {
     "name": "stdout",
     "output_type": "stream",
     "text": [
      "θ的95%的对称后验区间为[ 20.587219 , 20.994503 ]\n"
     ]
    }
   ],
   "source": [
    "print('θ的95%的对称后验区间为[',round(np.exp(a),6),',',round(np.exp(b),6),']')"
   ]
  },
  {
   "cell_type": "markdown",
   "metadata": {},
   "source": [
    "### (d)θ<20的后验概率\n",
    "已知$log\\theta$的分布，所以计算$log\\theta<log(20)$的后验概率 \\\n",
    "因为$log\\theta$服从$N(\\mu_1,\\sigma_1^2)$的分布，所以$\\frac{log\\theta-\\mu_1}{\\sigma_1}$服从$N(0,1)$的分布"
   ]
  },
  {
   "cell_type": "code",
   "execution_count": 44,
   "metadata": {},
   "outputs": [
    {
     "name": "stdout",
     "output_type": "stream",
     "text": [
      "θ<20的后验概率为： 0.00712\n"
     ]
    }
   ],
   "source": [
    "import scipy.stats\n",
    "print('θ<20的后验概率为：',round(scipy.stats.norm(0, 1).cdf((np.log(20)-mu1)/np.sqrt(Sigma1)),5))"
   ]
  }
 ],
 "metadata": {
  "kernelspec": {
   "display_name": "Python 3",
   "language": "python",
   "name": "python3"
  },
  "language_info": {
   "codemirror_mode": {
    "name": "ipython",
    "version": 3
   },
   "file_extension": ".py",
   "mimetype": "text/x-python",
   "name": "python",
   "nbconvert_exporter": "python",
   "pygments_lexer": "ipython3",
   "version": "3.8.5"
  }
 },
 "nbformat": 4,
 "nbformat_minor": 4
}
