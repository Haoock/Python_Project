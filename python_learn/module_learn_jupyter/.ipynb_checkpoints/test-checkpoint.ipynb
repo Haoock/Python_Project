{
 "cells": [
  {
   "cell_type": "code",
   "execution_count": null,
   "id": "3b60fcef",
   "metadata": {},
   "outputs": [],
   "source": [
    "# 可以看到下面的情况还是非常特殊的，在普通的python中很少见\n",
    "# 所以一定要注意x中具体的内容\n",
    "x1 = [1, 2, 3]\n",
    "x2 = [[1], [2], [3]]\n",
    "\n",
    "y = np.ones((3, 3))\n",
    "print(y[1, :][0])\n",
    "print(y[x1[1], :][0])\n",
    "print(y[[1], :][0])\n",
    "print(y[x2[1], :][0])"
   ]
  },
  {
   "cell_type": "code",
   "execution_count": null,
   "id": "135346a7",
   "metadata": {},
   "outputs": [],
   "source": [
    "y_train_noisy = np.array([0,0,0,0,0,1,0,0, 0, 0])\n",
    "print(y_train_noisy.shape)\n",
    "y_train = np.array([0,1,1,0,0,1,0,0, 0, 0])\n",
    "print(y_train == y_train_noisy)"
   ]
  }
 ],
 "metadata": {
  "kernelspec": {
   "display_name": "pythonLearn",
   "language": "python",
   "name": "pythonlearn"
  },
  "language_info": {
   "codemirror_mode": {
    "name": "ipython",
    "version": 3
   },
   "file_extension": ".py",
   "mimetype": "text/x-python",
   "name": "python",
   "nbconvert_exporter": "python",
   "pygments_lexer": "ipython3",
   "version": "3.8.10"
  }
 },
 "nbformat": 4,
 "nbformat_minor": 5
}
