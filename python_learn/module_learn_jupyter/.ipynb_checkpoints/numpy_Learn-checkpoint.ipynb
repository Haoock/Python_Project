{
 "cells": [
  {
   "cell_type": "code",
   "execution_count": 3,
   "id": "feb11a1b",
   "metadata": {},
   "outputs": [],
   "source": [
    "import numpy as np"
   ]
  },
  {
   "cell_type": "code",
   "execution_count": 4,
   "id": "e2b73b2a",
   "metadata": {},
   "outputs": [
    {
     "name": "stdout",
     "output_type": "stream",
     "text": [
      "Wall time: 10 ms\n"
     ]
    }
   ],
   "source": [
    "# 在numpy中，最重要的也是最核心的数据结构还是ndarray，ndarray代表的是多维数组。\n",
    "# NumPy是在一个连续的内存块中存储数据，独立于其他Python内置对象。NumPy的C语言编写的算法库可以操作内存，而不必进行类型检查或其它前期工作。\n",
    "# 比起Python的内置序列，NumPy数组使用的内存更少。\n",
    "# NumPy可以在整个数组上执行复杂的计算，而不需要Python的for循环。\n",
    "my_arr = np.arange(1000000)\n",
    "my_list = list(range(1000000))\n",
    "%time for _ in range(10): my_arr2 = my_arr * 2"
   ]
  },
  {
   "cell_type": "code",
   "execution_count": 5,
   "id": "bfbb67c0",
   "metadata": {},
   "outputs": [
    {
     "name": "stdout",
     "output_type": "stream",
     "text": [
      "Wall time: 427 ms\n"
     ]
    }
   ],
   "source": [
    "%time for _ in range(10): my_list2 = [x * 2 for x in my_list]\n",
    "# 可以看到上面的比较。基于NumPy的算法要比纯Python快10到100倍（甚至更快），并且使用的内存更少。"
   ]
  },
  {
   "cell_type": "code",
   "execution_count": 7,
   "id": "672948df",
   "metadata": {},
   "outputs": [
    {
     "name": "stdout",
     "output_type": "stream",
     "text": [
      "[[-12.27255125  -2.20264862  -2.1183197 ]\n",
      " [ -7.39163388 -15.89991775  -3.53473759]]\n",
      "float64\n",
      "(2, 3)\n"
     ]
    }
   ],
   "source": [
    "###################################################################################################################\n",
    "# 下面开始讲解Numpy的ndarray：一种多维数组对象\n",
    "data = np.random.randn(2, 3)\n",
    "data *= 10  # 这是将每个元素都乘以10\n",
    "data + data  # 这是将每个元素与对应位置上的元素相加\n",
    "print(data)\n",
    "# 每个数组都有一个shape（一个表示各维度大小的元组）和一个dtype（一个用于说明数组数据类型的对象）：\n",
    "print(data.dtype)\n",
    "print(data.shape)\n",
    "# 一般提到numpy数组都是指ndarray对象"
   ]
  },
  {
   "cell_type": "code",
   "execution_count": 27,
   "id": "e056def1",
   "metadata": {},
   "outputs": [
    {
     "name": "stdout",
     "output_type": "stream",
     "text": [
      "1\n",
      "(5,)\n",
      "float64\n",
      "[1. 2. 3.]\n"
     ]
    }
   ],
   "source": [
    "# 创建ndarray\n",
    "# 方法一：通过数组完成\n",
    "data1 = [6, 7.5, 8, 0, 1]\n",
    "arr1 = np.array(data1)\n",
    "print(arr1.ndim)  # 表示是一维的\n",
    "print(arr1.shape)\n",
    "print(arr1.dtype) # 这边会自动为arr1推测出它可能的类型\n",
    "\n",
    "# 还可以通过dtype来指定类型\n",
    "arr2 = np.array([1,2,3],dtype = np.float64)\n",
    "print(arr2)"
   ]
  },
  {
   "cell_type": "code",
   "execution_count": 10,
   "id": "7620c912",
   "metadata": {},
   "outputs": [
    {
     "name": "stdout",
     "output_type": "stream",
     "text": [
      "[[1. 1.]\n",
      " [1. 1.]\n",
      " [1. 1.]]\n",
      "[[[1. 1. 1.]\n",
      "  [1. 1. 1.]]\n",
      "\n",
      " [[1. 1. 1.]\n",
      "  [1. 1. 1.]]\n",
      "\n",
      " [[1. 1. 1.]\n",
      "  [1. 1. 1.]]]\n"
     ]
    }
   ],
   "source": [
    "# 创建全0或者全1的数组：\n",
    "x1 = np.zeros(10)\n",
    "x2 = np.ones([3,2])\n",
    "x3 = np.ones((3,2,3))\n",
    "print(x2)\n",
    "print(x3)"
   ]
  },
  {
   "cell_type": "code",
   "execution_count": 17,
   "id": "9264f67d",
   "metadata": {},
   "outputs": [
    {
     "name": "stdout",
     "output_type": "stream",
     "text": [
      "[ 0  1  2  3  4  5  6  7  8  9 10 11 12 13 14]\n"
     ]
    }
   ],
   "source": [
    "# 方法二：通过arrange来创建\n",
    "test1 = np.arange(15)\n",
    "print(test1)"
   ]
  },
  {
   "cell_type": "markdown",
   "id": "9486151e",
   "metadata": {},
   "source": [
    "![jupyter](./images/Image1.png)"
   ]
  },
  {
   "cell_type": "code",
   "execution_count": 25,
   "id": "3300418e",
   "metadata": {},
   "outputs": [
    {
     "name": "stdout",
     "output_type": "stream",
     "text": [
      "[0 0 0 0 0 0 0 0 0 0 0 0 0 0 0]\n",
      "[[1. 0. 0. 0. 0. 0. 0. 0. 0. 0.]\n",
      " [0. 1. 0. 0. 0. 0. 0. 0. 0. 0.]\n",
      " [0. 0. 1. 0. 0. 0. 0. 0. 0. 0.]\n",
      " [0. 0. 0. 1. 0. 0. 0. 0. 0. 0.]\n",
      " [0. 0. 0. 0. 1. 0. 0. 0. 0. 0.]\n",
      " [0. 0. 0. 0. 0. 1. 0. 0. 0. 0.]\n",
      " [0. 0. 0. 0. 0. 0. 1. 0. 0. 0.]\n",
      " [0. 0. 0. 0. 0. 0. 0. 1. 0. 0.]\n",
      " [0. 0. 0. 0. 0. 0. 0. 0. 1. 0.]\n",
      " [0. 0. 0. 0. 0. 0. 0. 0. 0. 1.]]\n",
      "[[1. 0. 0. 0.]\n",
      " [0. 1. 0. 0.]\n",
      " [0. 0. 1. 0.]\n",
      " [0. 0. 0. 1.]]\n",
      "[[inf inf]\n",
      " [inf inf]]\n",
      "[[10 10]\n",
      " [10 10]]\n",
      "[[10. 10.]\n",
      " [10. 10.]]\n"
     ]
    }
   ],
   "source": [
    "# 如上图所示，还有很多方法可以调用\n",
    "res1 = np.zeros_like(test1)\n",
    "print(res1)\n",
    "\n",
    "# eye和identity函数的参数都是一个数值，表示维度\n",
    "res2 = np.eye(10)\n",
    "print(res2)\n",
    "\n",
    "res3 = np.identity(4)\n",
    "print(res3)\n",
    "\n",
    "# 可以填充自己想要的形状\n",
    "a = np.full((2, 2), np.inf)\n",
    "b = np.full((2, 2), 10)\n",
    "print(a)\n",
    "print(b)\n",
    "\n",
    "c = np.full_like(a, 10)\n",
    "print(c)"
   ]
  },
  {
   "cell_type": "markdown",
   "id": "a36d10f3",
   "metadata": {},
   "source": [
    "![jupyter](./images/Image2.png)"
   ]
  },
  {
   "cell_type": "markdown",
   "id": "85631454",
   "metadata": {},
   "source": [
    "![jupyter](./images/Image3.png)"
   ]
  },
  {
   "cell_type": "code",
   "execution_count": 34,
   "id": "93f72b77",
   "metadata": {},
   "outputs": [
    {
     "name": "stdout",
     "output_type": "stream",
     "text": [
      "float64\n",
      "(5,)\n",
      "[ 1.25 -9.6  42.  ]\n"
     ]
    }
   ],
   "source": [
    "# 可以将astype将一个type转换成另一个type\n",
    "arr = np.array([1, 2, 3, 4, 5])\n",
    "float_arr = arr.astype(np.float64)\n",
    "print(float_arr.dtype)\n",
    "print(float_arr.shape)\n",
    "\n",
    "# 如果全是字符串数字，则可以直接转成数字\n",
    "numeric_strings = np.array(['1.25', '-9.6', '42'], dtype=np.string_)\n",
    "# 这边比较懒，写的是float而不是np.float64；NumPy很聪明，它会将Python类型映射到等价的dtype上。\n",
    "print(numeric_strings.astype(float))\n",
    "\n",
    "# 调用astype总会创建一个新的数组（一个数据的备份），即使新的dtype与旧的dtype相同。"
   ]
  },
  {
   "cell_type": "code",
   "execution_count": 37,
   "id": "e42e606d",
   "metadata": {},
   "outputs": [
    {
     "name": "stdout",
     "output_type": "stream",
     "text": [
      "[[1.         1.41421356 1.73205081]\n",
      " [2.         2.23606798 2.44948974]]\n"
     ]
    },
    {
     "data": {
      "text/plain": [
       "array([[False,  True, False],\n",
       "       [ True, False,  True]])"
      ]
     },
     "execution_count": 37,
     "metadata": {},
     "output_type": "execute_result"
    }
   ],
   "source": [
    "###################################################################################################################\n",
    "\n",
    "# 数组与标量的算术运算会将标量值传播到各个元素：\n",
    "arr = np.array([[1., 2., 3.], [4., 5., 6.]])\n",
    "print(arr ** 0.5)\n",
    "\n",
    "# 大小相同的数组之间的比较会生成布尔值数组：\n",
    "arr2 = np.array([[0., 4., 1.], [7., 2., 12.]])\n",
    "arr2 > arr"
   ]
  },
  {
   "cell_type": "code",
   "execution_count": 38,
   "id": "de45f4a7",
   "metadata": {},
   "outputs": [
    {
     "name": "stdout",
     "output_type": "stream",
     "text": [
      "[5 6 7]\n",
      "[ 0  1  2  3  4 12 12 12  8  9]\n"
     ]
    }
   ],
   "source": [
    "# numpy的索引和切片和列表看起来是差不多的\n",
    "arr = np.arange(10)\n",
    "print(arr[5:8])\n",
    "arr[5:8] = 12\n",
    "print(arr)\n",
    "# 跟列表最重要的区别在于，数组切片是原始数组的视图。这意味着数据不会被复制，视图上的任何修改都会直接反映到源数组上。\n",
    "# 注意：如果你想要得到的是ndarray切片的一份副本而非视图，就需要明确地进行复制操作，例如arr[5:8].copy()。"
   ]
  },
  {
   "cell_type": "code",
   "execution_count": 12,
   "id": "8ac30a68",
   "metadata": {},
   "outputs": [
    {
     "name": "stdout",
     "output_type": "stream",
     "text": [
      "3\n"
     ]
    },
    {
     "data": {
      "text/plain": [
       "3"
      ]
     },
     "execution_count": 12,
     "metadata": {},
     "output_type": "execute_result"
    }
   ],
   "source": [
    "# 对于高维度数组，能做的事情更多。在一个二维数组中，各索引位置上的元素不再是标量而是一维数组：\n",
    "# 因此，可以对各个元素进行递归访问，但这样需要做的事情有点多。\n",
    "arr2d = np.array([[1, 2, 3], [4, 5, 6], [7, 8, 9]])\n",
    "# 你可以传入一个以逗号隔开的索引列表来选取单个元素。也就是说，下面两种方式是等价的：\n",
    "#######################这个很重要呀，与Python里面完全不同\n",
    "print(arr2d[0][2])\n",
    "arr2d[0, 2]\n",
    "# 下图说明了二维数组的索引方式。轴0作为行，轴1作为列。"
   ]
  },
  {
   "cell_type": "markdown",
   "id": "89deb8c8",
   "metadata": {},
   "source": [
    "![jupyter](./images/Image4.png)"
   ]
  },
  {
   "cell_type": "code",
   "execution_count": 40,
   "id": "24b8e38f",
   "metadata": {},
   "outputs": [
    {
     "name": "stdout",
     "output_type": "stream",
     "text": [
      "[[1 2 3]\n",
      " [4 5 6]]\n",
      "[[[42 42 42]\n",
      "  [42 42 42]]\n",
      "\n",
      " [[ 7  8  9]\n",
      "  [10 11 12]]]\n",
      "[[[ 1  2  3]\n",
      "  [ 4  5  6]]\n",
      "\n",
      " [[ 7  8  9]\n",
      "  [10 11 12]]]\n"
     ]
    }
   ],
   "source": [
    "arr3d = np.array([[[1, 2, 3], [4, 5, 6]], [[7, 8, 9], [10, 11, 12]]])\n",
    "print(arr3d[0]) # 它是一个2* 3的数组\n",
    "# 标量值和数组都可以被赋值给arr3d[0]：\n",
    "old_values = arr3d[0].copy()\n",
    "arr3d[0] = 42\n",
    "print(arr3d)\n",
    "arr3d[0] = old_values\n",
    "print(arr3d)\n"
   ]
  },
  {
   "cell_type": "code",
   "execution_count": 41,
   "id": "622694e7",
   "metadata": {},
   "outputs": [
    {
     "name": "stdout",
     "output_type": "stream",
     "text": [
      "[7 8 9]\n"
     ]
    }
   ],
   "source": [
    "# 注意：根据索引和切片返回的数组都是视图。即在原来的数组上直接修改的\n",
    "print(arr3d[1, 0])"
   ]
  },
  {
   "cell_type": "code",
   "execution_count": 13,
   "id": "295b5180",
   "metadata": {},
   "outputs": [
    {
     "name": "stdout",
     "output_type": "stream",
     "text": [
      "[[1 2 3]\n",
      " [4 5 6]\n",
      " [7 8 9]]\n",
      "[[1 2 3]\n",
      " [4 5 6]]\n",
      "---\n",
      "[[2 3]\n",
      " [5 6]]\n"
     ]
    }
   ],
   "source": [
    "# 下面讲解多维数组的切片\n",
    "# 一开始是二维数组：\n",
    "print(arr2d)\n",
    "# 可以看出，它是沿着第0轴（即第一个轴）切片的。也就是说，切片是沿着一个轴向选取元素的。表达式arr2d[:2]可以被认为是“选取arr2d的前两行”。\n",
    "print(arr2d[:2])\n",
    "print(\"---\")\n",
    "print(arr2d[:2, 1:])\n",
    "\n",
    "# 自然，对切片表达式的赋值操作也会被扩散到整个选区：\n",
    "arr2d[:2, 1:] = 0"
   ]
  },
  {
   "cell_type": "markdown",
   "id": "f31dc14c",
   "metadata": {},
   "source": [
    "![j](./images/Image5.png)"
   ]
  },
  {
   "cell_type": "code",
   "execution_count": 5,
   "id": "52ca84ab",
   "metadata": {},
   "outputs": [
    {
     "name": "stdout",
     "output_type": "stream",
     "text": [
      "[0.         0.11111111 0.22222222 0.33333333 0.44444444 0.55555556\n",
      " 0.66666667 0.77777778 0.88888889 1.        ]\n"
     ]
    }
   ],
   "source": [
    "# numpy.linspace(start, stop, num=50, endpoint=True, retstep=False, dtype=None)\n",
    "# 在指定的间隔内返回均匀间隔的数字。\n",
    "# endpoint：如果是真，则一定包括stop，如果为False，一定不会有stop\n",
    "# 生成序列的起始点一定是start\n",
    "# retstep：If True, return (samples, step), where step is the spacing between samples.\n",
    "x = np.linspace(0, 1, 10)\n",
    "print(x)"
   ]
  },
  {
   "cell_type": "code",
   "execution_count": 6,
   "id": "b92dd2dc",
   "metadata": {},
   "outputs": [
    {
     "data": {
      "text/plain": [
       "-7.347880794884119e-16"
      ]
     },
     "execution_count": 6,
     "metadata": {},
     "output_type": "execute_result"
    }
   ],
   "source": [
    "np.sin(2 * np.pi * 3)"
   ]
  },
  {
   "cell_type": "code",
   "execution_count": null,
   "id": "fb2ec9f2",
   "metadata": {},
   "outputs": [],
   "source": []
  }
 ],
 "metadata": {
  "kernelspec": {
   "display_name": "pythonLearn",
   "language": "python",
   "name": "pythonlearn"
  },
  "language_info": {
   "codemirror_mode": {
    "name": "ipython",
    "version": 3
   },
   "file_extension": ".py",
   "mimetype": "text/x-python",
   "name": "python",
   "nbconvert_exporter": "python",
   "pygments_lexer": "ipython3",
   "version": "3.8.10"
  }
 },
 "nbformat": 4,
 "nbformat_minor": 5
}
